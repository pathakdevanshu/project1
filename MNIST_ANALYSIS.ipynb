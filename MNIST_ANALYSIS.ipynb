{
  "nbformat": 4,
  "nbformat_minor": 0,
  "metadata": {
    "colab": {
      "name": "MNIST_ANALYSIS.ipynb",
      "provenance": [],
      "collapsed_sections": [],
      "authorship_tag": "ABX9TyMiEXwlcme57Cioo9mE3JCD",
      "include_colab_link": true
    },
    "kernelspec": {
      "name": "python3",
      "display_name": "Python 3"
    },
    "language_info": {
      "name": "python"
    }
  },
  "cells": [
    {
      "cell_type": "markdown",
      "metadata": {
        "id": "view-in-github",
        "colab_type": "text"
      },
      "source": [
        "<a href=\"https://colab.research.google.com/github/pathakdevanshu/project1/blob/main/MNIST_ANALYSIS.ipynb\" target=\"_parent\"><img src=\"https://colab.research.google.com/assets/colab-badge.svg\" alt=\"Open In Colab\"/></a>"
      ]
    },
    {
      "cell_type": "code",
      "metadata": {
        "id": "scOIRbtiSru4"
      },
      "source": [
        "import cv2\n",
        "import torch\n",
        "import pandas as pd\n",
        "import numpy as np\n",
        "import torch.nn as nn\n",
        "import torch.nn.functional as f\n",
        "import torchvision.datasets as dataset\n",
        "from torch.utils.data import DataLoader\n",
        "import matplotlib.pyplot as plt\n",
        "import torchvision.transforms as transform"
      ],
      "execution_count": 63,
      "outputs": []
    },
    {
      "cell_type": "markdown",
      "metadata": {
        "id": "kXlrSlxnNUMT"
      },
      "source": [
        "# **Preparing the Dataset**"
      ]
    },
    {
      "cell_type": "code",
      "metadata": {
        "colab": {
          "base_uri": "https://localhost:8080/"
        },
        "id": "mzYxnO4BSuvF",
        "outputId": "4211180d-0cb3-4fa2-d62b-c6860b946c98"
      },
      "source": [
        "dataset=pd.read_csv(\"/content/sample_data/mnist_train_small.csv\")\n",
        "print(dataset.shape)\n",
        "df=np.array(dataset)\n",
        "x=df[:,1:]\n",
        "y=df[:,0]\n",
        "x=torch.tensor(x,dtype=torch.float32)\n",
        "y=torch.tensor(y,dtype=torch.int64)"
      ],
      "execution_count": 64,
      "outputs": [
        {
          "output_type": "stream",
          "text": [
            "(19999, 785)\n"
          ],
          "name": "stdout"
        }
      ]
    },
    {
      "cell_type": "code",
      "metadata": {
        "id": "oboIuMxu5AxB"
      },
      "source": [
        "datasett=[]\n",
        "for i in range(len(df)):\n",
        "  xv,yv=x[i],y[i]\n",
        "  xv=xv.reshape(1,28,28)\n",
        "  datasett.append((xv,yv))"
      ],
      "execution_count": 65,
      "outputs": []
    },
    {
      "cell_type": "markdown",
      "metadata": {
        "id": "GVQBb2PiNVQ6"
      },
      "source": [
        "# **Importing in Dataloader:--**"
      ]
    },
    {
      "cell_type": "code",
      "metadata": {
        "id": "1pKcCZyv5Azk"
      },
      "source": [
        "data=DataLoader(datasett,batch_size=10,shuffle=True)"
      ],
      "execution_count": 66,
      "outputs": []
    },
    {
      "cell_type": "markdown",
      "metadata": {
        "id": "DwbSPc0TNTaX"
      },
      "source": [
        "## **CNN Model:---**"
      ]
    },
    {
      "cell_type": "code",
      "metadata": {
        "id": "nN-5aUhM5A6g"
      },
      "source": [
        "class cnn(nn.Module):\n",
        "  def __init__(self):\n",
        "    super().__init__()\n",
        "    self.cn1=nn.Conv2d(1,16,5,1)\n",
        "    self.cn2=nn.Conv2d(16,32,5,1)\n",
        "    self.r=nn.ReLU(inplace=True)\n",
        "    self.pool=nn.MaxPool2d(2)\n",
        "    self.fc1=nn.Linear(32*4*4,100)\n",
        "    self.fc2=nn.Linear(100,10)\n",
        "  def forward(self,x):\n",
        "    x=self.pool(self.r(self.cn1(x)))\n",
        "    x=self.pool(self.r(self.cn2(x)))\n",
        "    x=x.reshape(-1,32*16)\n",
        "    x=f.relu(self.fc1(x))\n",
        "    return self.fc2(x)\n",
        "model=cnn()\n",
        "criterion=nn.CrossEntropyLoss()\n",
        "optimizer=torch.optim.Adam(model.parameters(),lr=0.001)"
      ],
      "execution_count": 69,
      "outputs": []
    },
    {
      "cell_type": "markdown",
      "metadata": {
        "id": "FpY64zvSIomV"
      },
      "source": [
        "## **Training the Model:-**"
      ]
    },
    {
      "cell_type": "code",
      "metadata": {
        "id": "oLx2Hm2o5A-3",
        "colab": {
          "base_uri": "https://localhost:8080/"
        },
        "outputId": "6f48a3ce-4284-43b3-d64b-e275105f31d5"
      },
      "source": [
        "epoch=15\n",
        "for i in range(epoch):\n",
        "  tloss=0\n",
        "  for j,(x,y) in enumerate(data):\n",
        "    if j==1800:\n",
        "      break\n",
        "    yp=model.forward(x)\n",
        "    loss=criterion(yp,y)\n",
        "    optimizer.zero_grad()\n",
        "    loss.backward()\n",
        "    optimizer.step()\n",
        "    tloss=tloss+loss\n",
        "  print(\"TOtal lOss = \",tloss)"
      ],
      "execution_count": 70,
      "outputs": [
        {
          "output_type": "stream",
          "text": [
            "TOtal lOss =  tensor(442.5659, grad_fn=<AddBackward0>)\n",
            "TOtal lOss =  tensor(190.3549, grad_fn=<AddBackward0>)\n",
            "TOtal lOss =  tensor(141.3521, grad_fn=<AddBackward0>)\n",
            "TOtal lOss =  tensor(129.4188, grad_fn=<AddBackward0>)\n",
            "TOtal lOss =  tensor(116.6020, grad_fn=<AddBackward0>)\n",
            "TOtal lOss =  tensor(104.3477, grad_fn=<AddBackward0>)\n",
            "TOtal lOss =  tensor(100.8088, grad_fn=<AddBackward0>)\n",
            "TOtal lOss =  tensor(85.9618, grad_fn=<AddBackward0>)\n",
            "TOtal lOss =  tensor(115.5169, grad_fn=<AddBackward0>)\n",
            "TOtal lOss =  tensor(82.4170, grad_fn=<AddBackward0>)\n",
            "TOtal lOss =  tensor(81.2837, grad_fn=<AddBackward0>)\n",
            "TOtal lOss =  tensor(83.2561, grad_fn=<AddBackward0>)\n",
            "TOtal lOss =  tensor(67.2733, grad_fn=<AddBackward0>)\n",
            "TOtal lOss =  tensor(98.3131, grad_fn=<AddBackward0>)\n",
            "TOtal lOss =  tensor(83.7013, grad_fn=<AddBackward0>)\n"
          ],
          "name": "stdout"
        }
      ]
    },
    {
      "cell_type": "markdown",
      "metadata": {
        "id": "MT6H3aYhkCGo"
      },
      "source": [
        "**Test Data:-**"
      ]
    },
    {
      "cell_type": "code",
      "metadata": {
        "id": "q1m8BB1jf7W2"
      },
      "source": [
        "testdata=pd.read_csv(\"/content/sample_data/mnist_test.csv\")\n",
        "df=np.array(testdata)\n",
        "xt=df[:,1:]\n",
        "yt=df[:,0]\n",
        "xt=torch.tensor(xt,dtype=torch.float32)\n",
        "yt=torch.tensor(yt,dtype=torch.int64)"
      ],
      "execution_count": 99,
      "outputs": []
    },
    {
      "cell_type": "code",
      "metadata": {
        "id": "05MABtZBf7aU"
      },
      "source": [
        "xt=xt.reshape(-1,1,1,28,28)"
      ],
      "execution_count": 100,
      "outputs": []
    },
    {
      "cell_type": "code",
      "metadata": {
        "id": "UYScMIk2f7cC"
      },
      "source": [
        "ypred,yreal=[],[]\n",
        "for i in range(len(testdata)):\n",
        "  yp=model.forward(xt[i])\n",
        "  yp=torch.softmax(yp,dim=1)\n",
        "  yp=torch.argmax(yp,dim=1)\n",
        "  ypred.append(yp)\n",
        "  yreal.append(yt[i])"
      ],
      "execution_count": 102,
      "outputs": []
    },
    {
      "cell_type": "markdown",
      "metadata": {
        "id": "IMxPRbLbkIL3"
      },
      "source": [
        "# **Confusion Matrix:--**"
      ]
    },
    {
      "cell_type": "code",
      "metadata": {
        "colab": {
          "base_uri": "https://localhost:8080/"
        },
        "id": "zcej5igRf7d3",
        "outputId": "f8dc51cc-fca0-4005-9a02-6b54c063e617"
      },
      "source": [
        "from sklearn.metrics import confusion_matrix\n",
        "confusion_matrix(yreal,ypred)"
      ],
      "execution_count": 108,
      "outputs": [
        {
          "output_type": "execute_result",
          "data": {
            "text/plain": [
              "array([[ 971,    0,    1,    1,    3,    1,    1,    0,    0,    2],\n",
              "       [   0, 1122,    6,    2,    1,    0,    0,    4,    0,    0],\n",
              "       [   5,    0, 1009,    6,    2,    0,    0,   10,    0,    0],\n",
              "       [   0,    1,    3,  991,    0,    8,    0,    4,    2,    1],\n",
              "       [   1,    0,    0,    0,  970,    0,    1,    1,    0,    9],\n",
              "       [   2,    0,    0,   13,    0,  869,    2,    1,    0,    5],\n",
              "       [   6,    5,    2,    1,    5,    4,  935,    0,    0,    0],\n",
              "       [   0,    2,    8,    2,    0,    0,    0, 1010,    0,    5],\n",
              "       [   8,    1,   15,   11,    3,    2,    1,    3,  919,   11],\n",
              "       [   2,    0,    0,    1,    9,    5,    0,    9,    1,  982]])"
            ]
          },
          "metadata": {
            "tags": []
          },
          "execution_count": 108
        }
      ]
    },
    {
      "cell_type": "code",
      "metadata": {
        "colab": {
          "base_uri": "https://localhost:8080/"
        },
        "id": "UU7FKM3qf7hM",
        "outputId": "96d0d49a-15bd-410f-9ae2-4936a0a6719d"
      },
      "source": [
        "#Accuracy:--\n",
        "c=0\n",
        "for i in range(9999):\n",
        "  if ypred[i]!=yreal[i]:\n",
        "    c=c+1\n",
        "print(\"ACCURACY:-\",((9999-c)/9999)*100)"
      ],
      "execution_count": 110,
      "outputs": [
        {
          "output_type": "stream",
          "text": [
            "ACCURACY:- 97.7897789778978\n"
          ],
          "name": "stdout"
        }
      ]
    }
  ]
}